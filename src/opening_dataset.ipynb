{
 "cells": [
  {
   "cell_type": "code",
   "execution_count": 2,
   "id": "e123f867",
   "metadata": {},
   "outputs": [],
   "source": [
    "from torch.utils.data import Dataset\n",
    "from typing import Tuple\n",
    "import torch\n",
    "\n",
    "\n",
    "class TaskDataset(Dataset):\n",
    "    def __init__(self, transform=None):\n",
    "\n",
    "        self.ids = []\n",
    "        self.imgs = []\n",
    "        self.labels = []\n",
    "\n",
    "        self.transform = transform\n",
    "\n",
    "    def __getitem__(self, index) -> Tuple[int, torch.Tensor, int]:\n",
    "        id_ = self.ids[index]\n",
    "        img = self.imgs[index]\n",
    "        if not self.transform is None:\n",
    "            img = self.transform(img)\n",
    "        label = self.labels[index]\n",
    "        return id_, img, label\n",
    "\n",
    "    def __len__(self):\n",
    "        return len(self.ids)"
   ]
  },
  {
   "cell_type": "code",
   "execution_count": 3,
   "id": "299f8660",
   "metadata": {},
   "outputs": [
    {
     "data": {
      "image/jpeg": "[encoded data removed]",
      "image/png": "[encoded data removed]",
      "text/plain": [
       "<PIL.Image.Image image mode=RGB size=32x32>"
      ]
     },
     "metadata": {},
     "output_type": "display_data"
    },
    {
     "name": "stdout",
     "output_type": "stream",
     "text": [
      "13000\n"
     ]
    }
   ],
   "source": [
    "dataset = TaskDataset()\n",
    "\n",
    "if __name__ == \"__main__\":\n",
    "    dataset = torch.load(\"../data/ModelStealingPub.pt\")\n",
    "    display(dataset.imgs[0])\n",
    "    #print(dataset.ids, dataset.imgs, dataset.labels)\n",
    "    print(len(dataset.imgs))"
   ]
  },
  {
   "cell_type": "code",
   "execution_count": 4,
   "id": "35862679",
   "metadata": {},
   "outputs": [
    {
     "name": "stdout",
     "output_type": "stream",
     "text": [
      "the unique values from 1st list is\n",
      "50\n"
     ]
    }
   ],
   "source": [
    "def unique(list1):\n",
    " \n",
    "    # initialize a null list\n",
    "    unique_list = []\n",
    " \n",
    "    # traverse for all elements\n",
    "    for x in list1:\n",
    "        # check if exists in unique_list or not\n",
    "        if x not in unique_list:\n",
    "            unique_list.append(x)\n",
    "    return unique_list\n",
    " \n",
    "print(\"the unique values from 1st list is\")\n",
    "uniq = unique(dataset.labels)\n",
    "print(len(uniq))"
   ]
  },
  {
   "cell_type": "code",
   "execution_count": 6,
   "id": "05180a6d",
   "metadata": {},
   "outputs": [],
   "source": [
    "from imgaug import augmenters as iaa\n",
    "import numpy as np\n",
    "\n",
    "class LabelDict:\n",
    "\n",
    "    def __init__(self, labels):\n",
    "        self.codes2labels_dct = []\n",
    "        self.labels2codes_dct = {}\n",
    "        i = 0\n",
    "        for l in labels:\n",
    "            if not self.labels2codes_dct.get(l):\n",
    "                self.labels2codes_dct[l] = i\n",
    "                i += 1\n",
    "                self.codes2labels_dct.append(l)\n",
    "\n",
    "    def codes2labels(self, cds):\n",
    "        return [self.codes2labels_dct[c] for c in cds]\n",
    "    \n",
    "    def labels2codes(self, lbls):\n",
    "        return [self.labels2codes_dct[l] for l in lbls]\n",
    "\n",
    "def augment(dataset, n):\n",
    "    aug = iaa.Sequential([\n",
    "        iaa.Fliplr(p=0.2),\n",
    "        iaa.Flipud(p=0.2),\n",
    "        iaa.AddToHueAndSaturation((-20, 20)), \n",
    "        iaa.Sometimes(0.5, iaa.GaussianBlur(sigma=(0, 0.5))),\n",
    "    ])\n",
    "    imgarr = np.array([np.array(img.convert('RGB')) for img in dataset.imgs])\n",
    "    all_augmented_imgs = [aug(images=imgarr) for _ in range(n)]\n",
    "    all_augmented_imgs.append(imgarr)  \n",
    "    augmented_imgs = np.concatenate(all_augmented_imgs, axis=0)\n",
    "    labels = np.tile(dataset.labels, n + 1)\n",
    "    lbl_dict = LabelDict(labels)\n",
    "    return augmented_imgs, lbl_dict.labels2codes(labels), lbl_dict\n",
    "\n",
    "(x_train, y_train, dict_train) = augment(dataset, 10)"
   ]
  },
  {
   "cell_type": "code",
   "execution_count": 9,
   "id": "b4cc195f",
   "metadata": {},
   "outputs": [],
   "source": [
    "import tensorflow as tf\n",
    "\n",
    "train_ds = tf.data.Dataset.from_tensor_slices((x_train, y_train))\n",
    "buffer_size = 1024\n",
    "batch_size = 128\n",
    "\n",
    "\n",
    "train_ds = (train_ds\n",
    "                  .shuffle(buffer_size=buffer_size)\n",
    "                  .batch(batch_size=batch_size, drop_remainder=True))"
   ]
  },
  {
   "cell_type": "code",
   "execution_count": 12,
   "id": "b9023e32",
   "metadata": {},
   "outputs": [],
   "source": [
    "def residual_block(img_input, filters, rescale=False, b_name='1'):\n",
    "    \n",
    "    ch_axis = -1 # defualt (channel_last)\n",
    "    stride = 1\n",
    "    w_init = 'he_uniform'\n",
    "    n = '_'+b_name\n",
    "\n",
    "    # Store skip connection\n",
    "    skip_connection = img_input\n",
    "\n",
    "    # Optionally add skip connection with Conv2D(1x1) and BN\n",
    "    if rescale == True:\n",
    "      stride = 2\n",
    "      skip_connection = tf.keras.layers.Conv2D(filters, (1,1), \n",
    "                                               strides=(stride,stride),\n",
    "                                               kernel_initializer=w_init,\n",
    "                                               name='skip_conv'+n)(skip_connection)\n",
    "      skip_connection = tf.keras.layers.BatchNormalization(axis=ch_axis,\n",
    "                                                           name='skip_bn'+n)(skip_connection)\n",
    "\n",
    "    x = tf.keras.layers.Conv2D(filters, (3,3), padding ='same', \n",
    "                               strides=(stride,stride),\n",
    "                               kernel_initializer=w_init,\n",
    "                               name='conv_1'+n)(img_input)\n",
    "    x = tf.keras.layers.BatchNormalization(axis=ch_axis, name='bn_1'+n)(x)\n",
    "    x = tf.keras.layers.Activation('relu', name='act_1'+n)(x)\n",
    "    x = tf.keras.layers.Conv2D(filters, (3,3), padding = 'same', \n",
    "                               kernel_initializer=w_init, name='conv_2'+n)(x)\n",
    "    x = tf.keras.layers.BatchNormalization(axis=ch_axis, name='bn_2'+n)(x)\n",
    "    \n",
    "    # Add connections\n",
    "    x = tf.keras.layers.Add()([x, skip_connection])     \n",
    "    output = tf.keras.layers.Activation('relu', name='act_block'+n)(x)\n",
    "\n",
    "    model = tf.keras.Model(img_input, output, name='residual_block'+n)\n",
    "\n",
    "    return model\n",
    "\n",
    "def get_Model(input_shape, no_of_classes):\n",
    "\n",
    "    inputs = tf.keras.Input(shape=input_shape)\n",
    "    \n",
    "    x = tf.keras.layers.Conv2D(filters=128, kernel_size=3, padding='same')(inputs)\n",
    "    x = tf.keras.layers.BatchNormalization()(x)\n",
    "    x = tf.keras.layers.Activation('relu')(x)\n",
    "\n",
    "    x_in_1 = tf.keras.Input(shape=x.shape[1:])\n",
    "    base_model_1 = residual_block(x_in_1, 128, rescale=False, b_name='1')\n",
    "    x = base_model_1(x, training=True)\n",
    "    \n",
    "    x_in_2 = tf.keras.Input(shape=x.shape[1:])\n",
    "    base_model_2 = residual_block(x_in_2, 512, rescale=True, b_name='2')\n",
    "    x = base_model_2(x, training=True)\n",
    "    \n",
    "    x = tf.keras.layers.GlobalAveragePooling2D()(x)\n",
    "    x =  tf.keras.layers.Dense(512)(x)\n",
    "    outputs = tf.keras.layers.Dense(no_of_classes, activation='softmax' )(x)\n",
    "    \n",
    "    model = tf.keras.Model(inputs, outputs, name='simple_res_net')\n",
    "\n",
    "    return model"
   ]
  },
  {
   "cell_type": "code",
   "execution_count": 13,
   "id": "186c8f53",
   "metadata": {},
   "outputs": [
    {
     "data": {
      "text/html": [
       "<pre style=\"white-space:pre;overflow-x:auto;line-height:normal;font-family:Menlo,'DejaVu Sans Mono',consolas,'Courier New',monospace\"><span style=\"font-weight: bold\">Model: \"simple_res_net\"</span>\n",
       "</pre>\n"
      ],
      "text/plain": [
       "\u001b[1mModel: \"simple_res_net\"\u001b[0m\n"
      ]
     },
     "metadata": {},
     "output_type": "display_data"
    },
    {
     "data": {
      "text/html": [
       "<pre style=\"white-space:pre;overflow-x:auto;line-height:normal;font-family:Menlo,'DejaVu Sans Mono',consolas,'Courier New',monospace\">┏━━━━━━━━━━━━━━━━━━━━━━━━━━━━━━━━━┳━━━━━━━━━━━━━━━━━━━━━━━━┳━━━━━━━━━━━━━━━┓\n",
       "┃<span style=\"font-weight: bold\"> Layer (type)                    </span>┃<span style=\"font-weight: bold\"> Output Shape           </span>┃<span style=\"font-weight: bold\">       Param # </span>┃\n",
       "┡━━━━━━━━━━━━━━━━━━━━━━━━━━━━━━━━━╇━━━━━━━━━━━━━━━━━━━━━━━━╇━━━━━━━━━━━━━━━┩\n",
       "│ input_layer (<span style=\"color: #0087ff; text-decoration-color: #0087ff\">InputLayer</span>)        │ (<span style=\"color: #00d7ff; text-decoration-color: #00d7ff\">None</span>, <span style=\"color: #00af00; text-decoration-color: #00af00\">32</span>, <span style=\"color: #00af00; text-decoration-color: #00af00\">32</span>, <span style=\"color: #00af00; text-decoration-color: #00af00\">3</span>)      │             <span style=\"color: #00af00; text-decoration-color: #00af00\">0</span> │\n",
       "├─────────────────────────────────┼────────────────────────┼───────────────┤\n",
       "│ conv2d (<span style=\"color: #0087ff; text-decoration-color: #0087ff\">Conv2D</span>)                 │ (<span style=\"color: #00d7ff; text-decoration-color: #00d7ff\">None</span>, <span style=\"color: #00af00; text-decoration-color: #00af00\">32</span>, <span style=\"color: #00af00; text-decoration-color: #00af00\">32</span>, <span style=\"color: #00af00; text-decoration-color: #00af00\">128</span>)    │         <span style=\"color: #00af00; text-decoration-color: #00af00\">3,584</span> │\n",
       "├─────────────────────────────────┼────────────────────────┼───────────────┤\n",
       "│ batch_normalization             │ (<span style=\"color: #00d7ff; text-decoration-color: #00d7ff\">None</span>, <span style=\"color: #00af00; text-decoration-color: #00af00\">32</span>, <span style=\"color: #00af00; text-decoration-color: #00af00\">32</span>, <span style=\"color: #00af00; text-decoration-color: #00af00\">128</span>)    │           <span style=\"color: #00af00; text-decoration-color: #00af00\">512</span> │\n",
       "│ (<span style=\"color: #0087ff; text-decoration-color: #0087ff\">BatchNormalization</span>)            │                        │               │\n",
       "├─────────────────────────────────┼────────────────────────┼───────────────┤\n",
       "│ activation (<span style=\"color: #0087ff; text-decoration-color: #0087ff\">Activation</span>)         │ (<span style=\"color: #00d7ff; text-decoration-color: #00d7ff\">None</span>, <span style=\"color: #00af00; text-decoration-color: #00af00\">32</span>, <span style=\"color: #00af00; text-decoration-color: #00af00\">32</span>, <span style=\"color: #00af00; text-decoration-color: #00af00\">128</span>)    │             <span style=\"color: #00af00; text-decoration-color: #00af00\">0</span> │\n",
       "├─────────────────────────────────┼────────────────────────┼───────────────┤\n",
       "│ residual_block_1 (<span style=\"color: #0087ff; text-decoration-color: #0087ff\">Functional</span>)   │ (<span style=\"color: #00d7ff; text-decoration-color: #00d7ff\">None</span>, <span style=\"color: #00af00; text-decoration-color: #00af00\">32</span>, <span style=\"color: #00af00; text-decoration-color: #00af00\">32</span>, <span style=\"color: #00af00; text-decoration-color: #00af00\">128</span>)    │       <span style=\"color: #00af00; text-decoration-color: #00af00\">296,192</span> │\n",
       "├─────────────────────────────────┼────────────────────────┼───────────────┤\n",
       "│ residual_block_2 (<span style=\"color: #0087ff; text-decoration-color: #0087ff\">Functional</span>)   │ (<span style=\"color: #00d7ff; text-decoration-color: #00d7ff\">None</span>, <span style=\"color: #00af00; text-decoration-color: #00af00\">16</span>, <span style=\"color: #00af00; text-decoration-color: #00af00\">16</span>, <span style=\"color: #00af00; text-decoration-color: #00af00\">512</span>)    │     <span style=\"color: #00af00; text-decoration-color: #00af00\">3,022,336</span> │\n",
       "├─────────────────────────────────┼────────────────────────┼───────────────┤\n",
       "│ global_average_pooling2d        │ (<span style=\"color: #00d7ff; text-decoration-color: #00d7ff\">None</span>, <span style=\"color: #00af00; text-decoration-color: #00af00\">512</span>)            │             <span style=\"color: #00af00; text-decoration-color: #00af00\">0</span> │\n",
       "│ (<span style=\"color: #0087ff; text-decoration-color: #0087ff\">GlobalAveragePooling2D</span>)        │                        │               │\n",
       "├─────────────────────────────────┼────────────────────────┼───────────────┤\n",
       "│ dense (<span style=\"color: #0087ff; text-decoration-color: #0087ff\">Dense</span>)                   │ (<span style=\"color: #00d7ff; text-decoration-color: #00d7ff\">None</span>, <span style=\"color: #00af00; text-decoration-color: #00af00\">512</span>)            │       <span style=\"color: #00af00; text-decoration-color: #00af00\">262,656</span> │\n",
       "├─────────────────────────────────┼────────────────────────┼───────────────┤\n",
       "│ dense_1 (<span style=\"color: #0087ff; text-decoration-color: #0087ff\">Dense</span>)                 │ (<span style=\"color: #00d7ff; text-decoration-color: #00d7ff\">None</span>, <span style=\"color: #00af00; text-decoration-color: #00af00\">50</span>)             │        <span style=\"color: #00af00; text-decoration-color: #00af00\">25,650</span> │\n",
       "└─────────────────────────────────┴────────────────────────┴───────────────┘\n",
       "</pre>\n"
      ],
      "text/plain": [
       "┏━━━━━━━━━━━━━━━━━━━━━━━━━━━━━━━━━┳━━━━━━━━━━━━━━━━━━━━━━━━┳━━━━━━━━━━━━━━━┓\n",
       "┃\u001b[1m \u001b[0m\u001b[1mLayer (type)                   \u001b[0m\u001b[1m \u001b[0m┃\u001b[1m \u001b[0m\u001b[1mOutput Shape          \u001b[0m\u001b[1m \u001b[0m┃\u001b[1m \u001b[0m\u001b[1m      Param #\u001b[0m\u001b[1m \u001b[0m┃\n",
       "┡━━━━━━━━━━━━━━━━━━━━━━━━━━━━━━━━━╇━━━━━━━━━━━━━━━━━━━━━━━━╇━━━━━━━━━━━━━━━┩\n",
       "│ input_layer (\u001b[38;5;33mInputLayer\u001b[0m)        │ (\u001b[38;5;45mNone\u001b[0m, \u001b[38;5;34m32\u001b[0m, \u001b[38;5;34m32\u001b[0m, \u001b[38;5;34m3\u001b[0m)      │             \u001b[38;5;34m0\u001b[0m │\n",
       "├─────────────────────────────────┼────────────────────────┼───────────────┤\n",
       "│ conv2d (\u001b[38;5;33mConv2D\u001b[0m)                 │ (\u001b[38;5;45mNone\u001b[0m, \u001b[38;5;34m32\u001b[0m, \u001b[38;5;34m32\u001b[0m, \u001b[38;5;34m128\u001b[0m)    │         \u001b[38;5;34m3,584\u001b[0m │\n",
       "├─────────────────────────────────┼────────────────────────┼───────────────┤\n",
       "│ batch_normalization             │ (\u001b[38;5;45mNone\u001b[0m, \u001b[38;5;34m32\u001b[0m, \u001b[38;5;34m32\u001b[0m, \u001b[38;5;34m128\u001b[0m)    │           \u001b[38;5;34m512\u001b[0m │\n",
       "│ (\u001b[38;5;33mBatchNormalization\u001b[0m)            │                        │               │\n",
       "├─────────────────────────────────┼────────────────────────┼───────────────┤\n",
       "│ activation (\u001b[38;5;33mActivation\u001b[0m)         │ (\u001b[38;5;45mNone\u001b[0m, \u001b[38;5;34m32\u001b[0m, \u001b[38;5;34m32\u001b[0m, \u001b[38;5;34m128\u001b[0m)    │             \u001b[38;5;34m0\u001b[0m │\n",
       "├─────────────────────────────────┼────────────────────────┼───────────────┤\n",
       "│ residual_block_1 (\u001b[38;5;33mFunctional\u001b[0m)   │ (\u001b[38;5;45mNone\u001b[0m, \u001b[38;5;34m32\u001b[0m, \u001b[38;5;34m32\u001b[0m, \u001b[38;5;34m128\u001b[0m)    │       \u001b[38;5;34m296,192\u001b[0m │\n",
       "├─────────────────────────────────┼────────────────────────┼───────────────┤\n",
       "│ residual_block_2 (\u001b[38;5;33mFunctional\u001b[0m)   │ (\u001b[38;5;45mNone\u001b[0m, \u001b[38;5;34m16\u001b[0m, \u001b[38;5;34m16\u001b[0m, \u001b[38;5;34m512\u001b[0m)    │     \u001b[38;5;34m3,022,336\u001b[0m │\n",
       "├─────────────────────────────────┼────────────────────────┼───────────────┤\n",
       "│ global_average_pooling2d        │ (\u001b[38;5;45mNone\u001b[0m, \u001b[38;5;34m512\u001b[0m)            │             \u001b[38;5;34m0\u001b[0m │\n",
       "│ (\u001b[38;5;33mGlobalAveragePooling2D\u001b[0m)        │                        │               │\n",
       "├─────────────────────────────────┼────────────────────────┼───────────────┤\n",
       "│ dense (\u001b[38;5;33mDense\u001b[0m)                   │ (\u001b[38;5;45mNone\u001b[0m, \u001b[38;5;34m512\u001b[0m)            │       \u001b[38;5;34m262,656\u001b[0m │\n",
       "├─────────────────────────────────┼────────────────────────┼───────────────┤\n",
       "│ dense_1 (\u001b[38;5;33mDense\u001b[0m)                 │ (\u001b[38;5;45mNone\u001b[0m, \u001b[38;5;34m50\u001b[0m)             │        \u001b[38;5;34m25,650\u001b[0m │\n",
       "└─────────────────────────────────┴────────────────────────┴───────────────┘\n"
      ]
     },
     "metadata": {},
     "output_type": "display_data"
    },
    {
     "data": {
      "text/html": [
       "<pre style=\"white-space:pre;overflow-x:auto;line-height:normal;font-family:Menlo,'DejaVu Sans Mono',consolas,'Courier New',monospace\"><span style=\"font-weight: bold\"> Total params: </span><span style=\"color: #00af00; text-decoration-color: #00af00\">3,610,930</span> (13.77 MB)\n",
       "</pre>\n"
      ],
      "text/plain": [
       "\u001b[1m Total params: \u001b[0m\u001b[38;5;34m3,610,930\u001b[0m (13.77 MB)\n"
      ]
     },
     "metadata": {},
     "output_type": "display_data"
    },
    {
     "data": {
      "text/html": [
       "<pre style=\"white-space:pre;overflow-x:auto;line-height:normal;font-family:Menlo,'DejaVu Sans Mono',consolas,'Courier New',monospace\"><span style=\"font-weight: bold\"> Trainable params: </span><span style=\"color: #00af00; text-decoration-color: #00af00\">3,607,090</span> (13.76 MB)\n",
       "</pre>\n"
      ],
      "text/plain": [
       "\u001b[1m Trainable params: \u001b[0m\u001b[38;5;34m3,607,090\u001b[0m (13.76 MB)\n"
      ]
     },
     "metadata": {},
     "output_type": "display_data"
    },
    {
     "data": {
      "text/html": [
       "<pre style=\"white-space:pre;overflow-x:auto;line-height:normal;font-family:Menlo,'DejaVu Sans Mono',consolas,'Courier New',monospace\"><span style=\"font-weight: bold\"> Non-trainable params: </span><span style=\"color: #00af00; text-decoration-color: #00af00\">3,840</span> (15.00 KB)\n",
       "</pre>\n"
      ],
      "text/plain": [
       "\u001b[1m Non-trainable params: \u001b[0m\u001b[38;5;34m3,840\u001b[0m (15.00 KB)\n"
      ]
     },
     "metadata": {},
     "output_type": "display_data"
    }
   ],
   "source": [
    "model_to_train = get_Model((32,32,3), 50)\n",
    "\n",
    "model_to_train.summary()"
   ]
  },
  {
   "cell_type": "code",
   "execution_count": 16,
   "id": "ec7ad7b0",
   "metadata": {},
   "outputs": [
    {
     "name": "stdout",
     "output_type": "stream",
     "text": [
      "Epoch 1/50\n"
     ]
    },
    {
     "name": "stdout",
     "output_type": "stream",
     "text": [
      "\u001b[1m  21/1117\u001b[0m \u001b[37m━━━━━━━━━━━━━━━━━━━━\u001b[0m \u001b[1m1:28:26\u001b[0m 5s/step - accuracy: 0.2314 - loss: 2.9818"
     ]
    },
    {
     "ename": "InvalidArgumentError",
     "evalue": "Graph execution error:\n\nDetected at node compile_loss/sparse_categorical_crossentropy/SparseSoftmaxCrossEntropyWithLogits/SparseSoftmaxCrossEntropyWithLogits defined at (most recent call last):\n  File \"<frozen runpy>\", line 198, in _run_module_as_main\n\n  File \"<frozen runpy>\", line 88, in _run_code\n\n  File \"C:\\Users\\janst\\AppData\\Roaming\\Python\\Python312\\site-packages\\ipykernel_launcher.py\", line 17, in <module>\n\n  File \"C:\\Users\\janst\\AppData\\Roaming\\Python\\Python312\\site-packages\\traitlets\\config\\application.py\", line 1053, in launch_instance\n\n  File \"C:\\Users\\janst\\AppData\\Roaming\\Python\\Python312\\site-packages\\ipykernel\\kernelapp.py\", line 737, in start\n\n  File \"C:\\Users\\janst\\AppData\\Roaming\\Python\\Python312\\site-packages\\tornado\\platform\\asyncio.py\", line 195, in start\n\n  File \"c:\\Users\\janst\\AppData\\Local\\Programs\\Python\\Python312\\Lib\\asyncio\\base_events.py\", line 618, in run_forever\n\n  File \"c:\\Users\\janst\\AppData\\Local\\Programs\\Python\\Python312\\Lib\\asyncio\\base_events.py\", line 1951, in _run_once\n\n  File \"c:\\Users\\janst\\AppData\\Local\\Programs\\Python\\Python312\\Lib\\asyncio\\events.py\", line 84, in _run\n\n  File \"C:\\Users\\janst\\AppData\\Roaming\\Python\\Python312\\site-packages\\ipykernel\\kernelbase.py\", line 524, in dispatch_queue\n\n  File \"C:\\Users\\janst\\AppData\\Roaming\\Python\\Python312\\site-packages\\ipykernel\\kernelbase.py\", line 513, in process_one\n\n  File \"C:\\Users\\janst\\AppData\\Roaming\\Python\\Python312\\site-packages\\ipykernel\\kernelbase.py\", line 418, in dispatch_shell\n\n  File \"C:\\Users\\janst\\AppData\\Roaming\\Python\\Python312\\site-packages\\ipykernel\\kernelbase.py\", line 758, in execute_request\n\n  File \"C:\\Users\\janst\\AppData\\Roaming\\Python\\Python312\\site-packages\\ipykernel\\ipkernel.py\", line 426, in do_execute\n\n  File \"C:\\Users\\janst\\AppData\\Roaming\\Python\\Python312\\site-packages\\ipykernel\\zmqshell.py\", line 549, in run_cell\n\n  File \"C:\\Users\\janst\\AppData\\Roaming\\Python\\Python312\\site-packages\\IPython\\core\\interactiveshell.py\", line 3046, in run_cell\n\n  File \"C:\\Users\\janst\\AppData\\Roaming\\Python\\Python312\\site-packages\\IPython\\core\\interactiveshell.py\", line 3101, in _run_cell\n\n  File \"C:\\Users\\janst\\AppData\\Roaming\\Python\\Python312\\site-packages\\IPython\\core\\async_helpers.py\", line 129, in _pseudo_sync_runner\n\n  File \"C:\\Users\\janst\\AppData\\Roaming\\Python\\Python312\\site-packages\\IPython\\core\\interactiveshell.py\", line 3306, in run_cell_async\n\n  File \"C:\\Users\\janst\\AppData\\Roaming\\Python\\Python312\\site-packages\\IPython\\core\\interactiveshell.py\", line 3488, in run_ast_nodes\n\n  File \"C:\\Users\\janst\\AppData\\Roaming\\Python\\Python312\\site-packages\\IPython\\core\\interactiveshell.py\", line 3548, in run_code\n\n  File \"C:\\Users\\janst\\AppData\\Local\\Temp\\ipykernel_24192\\2631840364.py\", line 6, in <module>\n\n  File \"c:\\Users\\janst\\AppData\\Local\\Programs\\Python\\Python312\\Lib\\site-packages\\keras\\src\\utils\\traceback_utils.py\", line 118, in error_handler\n\n  File \"c:\\Users\\janst\\AppData\\Local\\Programs\\Python\\Python312\\Lib\\site-packages\\keras\\src\\backend\\tensorflow\\trainer.py\", line 323, in fit\n\n  File \"c:\\Users\\janst\\AppData\\Local\\Programs\\Python\\Python312\\Lib\\site-packages\\keras\\src\\backend\\tensorflow\\trainer.py\", line 117, in one_step_on_iterator\n\n  File \"c:\\Users\\janst\\AppData\\Local\\Programs\\Python\\Python312\\Lib\\site-packages\\keras\\src\\backend\\tensorflow\\trainer.py\", line 105, in one_step_on_data\n\n  File \"c:\\Users\\janst\\AppData\\Local\\Programs\\Python\\Python312\\Lib\\site-packages\\keras\\src\\backend\\tensorflow\\trainer.py\", line 59, in train_step\n\n  File \"c:\\Users\\janst\\AppData\\Local\\Programs\\Python\\Python312\\Lib\\site-packages\\keras\\src\\trainers\\trainer.py\", line 321, in compute_loss\n\n  File \"c:\\Users\\janst\\AppData\\Local\\Programs\\Python\\Python312\\Lib\\site-packages\\keras\\src\\trainers\\compile_utils.py\", line 606, in __call__\n\n  File \"c:\\Users\\janst\\AppData\\Local\\Programs\\Python\\Python312\\Lib\\site-packages\\keras\\src\\trainers\\compile_utils.py\", line 642, in call\n\n  File \"c:\\Users\\janst\\AppData\\Local\\Programs\\Python\\Python312\\Lib\\site-packages\\keras\\src\\losses\\loss.py\", line 43, in __call__\n\n  File \"c:\\Users\\janst\\AppData\\Local\\Programs\\Python\\Python312\\Lib\\site-packages\\keras\\src\\losses\\losses.py\", line 22, in call\n\n  File \"c:\\Users\\janst\\AppData\\Local\\Programs\\Python\\Python312\\Lib\\site-packages\\keras\\src\\losses\\losses.py\", line 1714, in sparse_categorical_crossentropy\n\n  File \"c:\\Users\\janst\\AppData\\Local\\Programs\\Python\\Python312\\Lib\\site-packages\\keras\\src\\ops\\nn.py\", line 1541, in sparse_categorical_crossentropy\n\n  File \"c:\\Users\\janst\\AppData\\Local\\Programs\\Python\\Python312\\Lib\\site-packages\\keras\\src\\backend\\tensorflow\\nn.py\", line 633, in sparse_categorical_crossentropy\n\nReceived a label value of 50 which is outside the valid range of [0, 50).  Label values: 9 13 11 5 2 18 2 3 23 3 2 25 11 31 3 9 15 1 10 2 5 4 2 9 12 6 9 5 3 9 6 39 25 2 2 19 2 8 7 17 2 4 6 37 5 2 20 2 2 3 2 6 2 2 12 2 6 18 2 35 11 2 6 6 2 8 9 25 15 3 12 9 18 9 2 5 9 7 20 9 8 10 6 17 5 8 4 3 15 16 9 6 9 15 6 4 22 22 9 34 12 18 1 15 23 15 4 9 6 6 6 3 1 24 6 24 12 2 2 50 8 9 6 11 15 6 5 2\n\t [[{{node compile_loss/sparse_categorical_crossentropy/SparseSoftmaxCrossEntropyWithLogits/SparseSoftmaxCrossEntropyWithLogits}}]] [Op:__inference_one_step_on_iterator_5283]",
     "output_type": "error",
     "traceback": [
      "\u001b[1;31m---------------------------------------------------------------------------\u001b[0m",
      "\u001b[1;31mInvalidArgumentError\u001b[0m                      Traceback (most recent call last)",
      "Cell \u001b[1;32mIn[16], line 6\u001b[0m\n\u001b[0;32m      1\u001b[0m model_to_train\u001b[38;5;241m.\u001b[39mcompile(\n\u001b[0;32m      2\u001b[0m     optimizer\u001b[38;5;241m=\u001b[39mtf\u001b[38;5;241m.\u001b[39mkeras\u001b[38;5;241m.\u001b[39moptimizers\u001b[38;5;241m.\u001b[39mAdam(learning_rate\u001b[38;5;241m=\u001b[39m\u001b[38;5;241m1e-4\u001b[39m, beta_1\u001b[38;5;241m=\u001b[39m\u001b[38;5;241m0.9\u001b[39m, beta_2\u001b[38;5;241m=\u001b[39m\u001b[38;5;241m0.999\u001b[39m, amsgrad\u001b[38;5;241m=\u001b[39m\u001b[38;5;28;01mFalse\u001b[39;00m),\n\u001b[0;32m      3\u001b[0m     loss\u001b[38;5;241m=\u001b[39m\u001b[38;5;124m'\u001b[39m\u001b[38;5;124msparse_categorical_crossentropy\u001b[39m\u001b[38;5;124m'\u001b[39m, \n\u001b[0;32m      4\u001b[0m     metrics\u001b[38;5;241m=\u001b[39m[\u001b[38;5;124m'\u001b[39m\u001b[38;5;124maccuracy\u001b[39m\u001b[38;5;124m'\u001b[39m]\n\u001b[0;32m      5\u001b[0m   )\n\u001b[1;32m----> 6\u001b[0m \u001b[43mmodel_to_train\u001b[49m\u001b[38;5;241;43m.\u001b[39;49m\u001b[43mfit\u001b[49m\u001b[43m(\u001b[49m\u001b[43mtrain_ds\u001b[49m\u001b[43m,\u001b[49m\u001b[43m \u001b[49m\n\u001b[0;32m      7\u001b[0m \u001b[43m            \u001b[49m\u001b[43mepochs\u001b[49m\u001b[38;5;241;43m=\u001b[39;49m\u001b[38;5;241;43m50\u001b[39;49m\u001b[43m)\u001b[49m\n",
      "File \u001b[1;32mc:\\Users\\janst\\AppData\\Local\\Programs\\Python\\Python312\\Lib\\site-packages\\keras\\src\\utils\\traceback_utils.py:123\u001b[0m, in \u001b[0;36mfilter_traceback.<locals>.error_handler\u001b[1;34m(*args, **kwargs)\u001b[0m\n\u001b[0;32m    120\u001b[0m     filtered_tb \u001b[38;5;241m=\u001b[39m _process_traceback_frames(e\u001b[38;5;241m.\u001b[39m__traceback__)\n\u001b[0;32m    121\u001b[0m     \u001b[38;5;66;03m# To get the full stack trace, call:\u001b[39;00m\n\u001b[0;32m    122\u001b[0m     \u001b[38;5;66;03m# `keras.config.disable_traceback_filtering()`\u001b[39;00m\n\u001b[1;32m--> 123\u001b[0m     \u001b[38;5;28;01mraise\u001b[39;00m e\u001b[38;5;241m.\u001b[39mwith_traceback(filtered_tb) \u001b[38;5;28;01mfrom\u001b[39;00m \u001b[38;5;28;01mNone\u001b[39;00m\n\u001b[0;32m    124\u001b[0m \u001b[38;5;28;01mfinally\u001b[39;00m:\n\u001b[0;32m    125\u001b[0m     \u001b[38;5;28;01mdel\u001b[39;00m filtered_tb\n",
      "File \u001b[1;32mc:\\Users\\janst\\AppData\\Local\\Programs\\Python\\Python312\\Lib\\site-packages\\tensorflow\\python\\eager\\execute.py:53\u001b[0m, in \u001b[0;36mquick_execute\u001b[1;34m(op_name, num_outputs, inputs, attrs, ctx, name)\u001b[0m\n\u001b[0;32m     51\u001b[0m \u001b[38;5;28;01mtry\u001b[39;00m:\n\u001b[0;32m     52\u001b[0m   ctx\u001b[38;5;241m.\u001b[39mensure_initialized()\n\u001b[1;32m---> 53\u001b[0m   tensors \u001b[38;5;241m=\u001b[39m pywrap_tfe\u001b[38;5;241m.\u001b[39mTFE_Py_Execute(ctx\u001b[38;5;241m.\u001b[39m_handle, device_name, op_name,\n\u001b[0;32m     54\u001b[0m                                       inputs, attrs, num_outputs)\n\u001b[0;32m     55\u001b[0m \u001b[38;5;28;01mexcept\u001b[39;00m core\u001b[38;5;241m.\u001b[39m_NotOkStatusException \u001b[38;5;28;01mas\u001b[39;00m e:\n\u001b[0;32m     56\u001b[0m   \u001b[38;5;28;01mif\u001b[39;00m name \u001b[38;5;129;01mis\u001b[39;00m \u001b[38;5;129;01mnot\u001b[39;00m \u001b[38;5;28;01mNone\u001b[39;00m:\n",
      "\u001b[1;31mInvalidArgumentError\u001b[0m: Graph execution error:\n\nDetected at node compile_loss/sparse_categorical_crossentropy/SparseSoftmaxCrossEntropyWithLogits/SparseSoftmaxCrossEntropyWithLogits defined at (most recent call last):\n  File \"<frozen runpy>\", line 198, in _run_module_as_main\n\n  File \"<frozen runpy>\", line 88, in _run_code\n\n  File \"C:\\Users\\janst\\AppData\\Roaming\\Python\\Python312\\site-packages\\ipykernel_launcher.py\", line 17, in <module>\n\n  File \"C:\\Users\\janst\\AppData\\Roaming\\Python\\Python312\\site-packages\\traitlets\\config\\application.py\", line 1053, in launch_instance\n\n  File \"C:\\Users\\janst\\AppData\\Roaming\\Python\\Python312\\site-packages\\ipykernel\\kernelapp.py\", line 737, in start\n\n  File \"C:\\Users\\janst\\AppData\\Roaming\\Python\\Python312\\site-packages\\tornado\\platform\\asyncio.py\", line 195, in start\n\n  File \"c:\\Users\\janst\\AppData\\Local\\Programs\\Python\\Python312\\Lib\\asyncio\\base_events.py\", line 618, in run_forever\n\n  File \"c:\\Users\\janst\\AppData\\Local\\Programs\\Python\\Python312\\Lib\\asyncio\\base_events.py\", line 1951, in _run_once\n\n  File \"c:\\Users\\janst\\AppData\\Local\\Programs\\Python\\Python312\\Lib\\asyncio\\events.py\", line 84, in _run\n\n  File \"C:\\Users\\janst\\AppData\\Roaming\\Python\\Python312\\site-packages\\ipykernel\\kernelbase.py\", line 524, in dispatch_queue\n\n  File \"C:\\Users\\janst\\AppData\\Roaming\\Python\\Python312\\site-packages\\ipykernel\\kernelbase.py\", line 513, in process_one\n\n  File \"C:\\Users\\janst\\AppData\\Roaming\\Python\\Python312\\site-packages\\ipykernel\\kernelbase.py\", line 418, in dispatch_shell\n\n  File \"C:\\Users\\janst\\AppData\\Roaming\\Python\\Python312\\site-packages\\ipykernel\\kernelbase.py\", line 758, in execute_request\n\n  File \"C:\\Users\\janst\\AppData\\Roaming\\Python\\Python312\\site-packages\\ipykernel\\ipkernel.py\", line 426, in do_execute\n\n  File \"C:\\Users\\janst\\AppData\\Roaming\\Python\\Python312\\site-packages\\ipykernel\\zmqshell.py\", line 549, in run_cell\n\n  File \"C:\\Users\\janst\\AppData\\Roaming\\Python\\Python312\\site-packages\\IPython\\core\\interactiveshell.py\", line 3046, in run_cell\n\n  File \"C:\\Users\\janst\\AppData\\Roaming\\Python\\Python312\\site-packages\\IPython\\core\\interactiveshell.py\", line 3101, in _run_cell\n\n  File \"C:\\Users\\janst\\AppData\\Roaming\\Python\\Python312\\site-packages\\IPython\\core\\async_helpers.py\", line 129, in _pseudo_sync_runner\n\n  File \"C:\\Users\\janst\\AppData\\Roaming\\Python\\Python312\\site-packages\\IPython\\core\\interactiveshell.py\", line 3306, in run_cell_async\n\n  File \"C:\\Users\\janst\\AppData\\Roaming\\Python\\Python312\\site-packages\\IPython\\core\\interactiveshell.py\", line 3488, in run_ast_nodes\n\n  File \"C:\\Users\\janst\\AppData\\Roaming\\Python\\Python312\\site-packages\\IPython\\core\\interactiveshell.py\", line 3548, in run_code\n\n  File \"C:\\Users\\janst\\AppData\\Local\\Temp\\ipykernel_24192\\2631840364.py\", line 6, in <module>\n\n  File \"c:\\Users\\janst\\AppData\\Local\\Programs\\Python\\Python312\\Lib\\site-packages\\keras\\src\\utils\\traceback_utils.py\", line 118, in error_handler\n\n  File \"c:\\Users\\janst\\AppData\\Local\\Programs\\Python\\Python312\\Lib\\site-packages\\keras\\src\\backend\\tensorflow\\trainer.py\", line 323, in fit\n\n  File \"c:\\Users\\janst\\AppData\\Local\\Programs\\Python\\Python312\\Lib\\site-packages\\keras\\src\\backend\\tensorflow\\trainer.py\", line 117, in one_step_on_iterator\n\n  File \"c:\\Users\\janst\\AppData\\Local\\Programs\\Python\\Python312\\Lib\\site-packages\\keras\\src\\backend\\tensorflow\\trainer.py\", line 105, in one_step_on_data\n\n  File \"c:\\Users\\janst\\AppData\\Local\\Programs\\Python\\Python312\\Lib\\site-packages\\keras\\src\\backend\\tensorflow\\trainer.py\", line 59, in train_step\n\n  File \"c:\\Users\\janst\\AppData\\Local\\Programs\\Python\\Python312\\Lib\\site-packages\\keras\\src\\trainers\\trainer.py\", line 321, in compute_loss\n\n  File \"c:\\Users\\janst\\AppData\\Local\\Programs\\Python\\Python312\\Lib\\site-packages\\keras\\src\\trainers\\compile_utils.py\", line 606, in __call__\n\n  File \"c:\\Users\\janst\\AppData\\Local\\Programs\\Python\\Python312\\Lib\\site-packages\\keras\\src\\trainers\\compile_utils.py\", line 642, in call\n\n  File \"c:\\Users\\janst\\AppData\\Local\\Programs\\Python\\Python312\\Lib\\site-packages\\keras\\src\\losses\\loss.py\", line 43, in __call__\n\n  File \"c:\\Users\\janst\\AppData\\Local\\Programs\\Python\\Python312\\Lib\\site-packages\\keras\\src\\losses\\losses.py\", line 22, in call\n\n  File \"c:\\Users\\janst\\AppData\\Local\\Programs\\Python\\Python312\\Lib\\site-packages\\keras\\src\\losses\\losses.py\", line 1714, in sparse_categorical_crossentropy\n\n  File \"c:\\Users\\janst\\AppData\\Local\\Programs\\Python\\Python312\\Lib\\site-packages\\keras\\src\\ops\\nn.py\", line 1541, in sparse_categorical_crossentropy\n\n  File \"c:\\Users\\janst\\AppData\\Local\\Programs\\Python\\Python312\\Lib\\site-packages\\keras\\src\\backend\\tensorflow\\nn.py\", line 633, in sparse_categorical_crossentropy\n\nReceived a label value of 50 which is outside the valid range of [0, 50).  Label values: 9 13 11 5 2 18 2 3 23 3 2 25 11 31 3 9 15 1 10 2 5 4 2 9 12 6 9 5 3 9 6 39 25 2 2 19 2 8 7 17 2 4 6 37 5 2 20 2 2 3 2 6 2 2 12 2 6 18 2 35 11 2 6 6 2 8 9 25 15 3 12 9 18 9 2 5 9 7 20 9 8 10 6 17 5 8 4 3 15 16 9 6 9 15 6 4 22 22 9 34 12 18 1 15 23 15 4 9 6 6 6 3 1 24 6 24 12 2 2 50 8 9 6 11 15 6 5 2\n\t [[{{node compile_loss/sparse_categorical_crossentropy/SparseSoftmaxCrossEntropyWithLogits/SparseSoftmaxCrossEntropyWithLogits}}]] [Op:__inference_one_step_on_iterator_5283]"
     ]
    }
   ],
   "source": [
    "model_to_train.compile(\n",
    "    optimizer=tf.keras.optimizers.Adam(learning_rate=1e-4, beta_1=0.9, beta_2=0.999, amsgrad=False),\n",
    "    loss='sparse_categorical_crossentropy', \n",
    "    metrics=['accuracy']\n",
    "  )\n",
    "model_to_train.fit(train_ds, \n",
    "            epochs=50)"
   ]
  },
  {
   "cell_type": "code",
   "execution_count": null,
   "id": "6538b88c",
   "metadata": {},
   "outputs": [],
   "source": [
    "onnx_model, _ = tf2onnx.convert.from_keras(model, input_signature, opset=13)\n",
    "onnx.save(onnx_model, \"model.onnx\")"
   ]
  },
  {
   "cell_type": "code",
   "execution_count": 2,
   "id": "48e91566",
   "metadata": {},
   "outputs": [
    {
     "ename": "AttributeError",
     "evalue": "'int' object has no attribute 'tolist'",
     "output_type": "error",
     "traceback": [
      "\u001b[1;31m---------------------------------------------------------------------------\u001b[0m",
      "\u001b[1;31mAttributeError\u001b[0m                            Traceback (most recent call last)",
      "Cell \u001b[1;32mIn[2], line 38\u001b[0m\n\u001b[0;32m     36\u001b[0m ids, lbls \u001b[38;5;241m=\u001b[39m select_samples(dataset, \u001b[38;5;241m36\u001b[39m)\n\u001b[0;32m     37\u001b[0m repres \u001b[38;5;241m=\u001b[39m sybil(ids, \u001b[38;5;124m'\u001b[39m\u001b[38;5;124mhome\u001b[39m\u001b[38;5;124m'\u001b[39m, \u001b[38;5;124m'\u001b[39m\u001b[38;5;124maffine\u001b[39m\u001b[38;5;124m'\u001b[39m)\n\u001b[1;32m---> 38\u001b[0m \u001b[43msave\u001b[49m\u001b[43m(\u001b[49m\u001b[43mids\u001b[49m\u001b[43m,\u001b[49m\u001b[43m \u001b[49m\u001b[43mrepres\u001b[49m\u001b[43m,\u001b[49m\u001b[43m \u001b[49m\u001b[38;5;124;43m'\u001b[39;49m\u001b[38;5;124;43msybil.json\u001b[39;49m\u001b[38;5;124;43m'\u001b[39;49m\u001b[43m)\u001b[49m\n",
      "Cell \u001b[1;32mIn[2], line 29\u001b[0m, in \u001b[0;36msave\u001b[1;34m(ids, reprs, path)\u001b[0m\n\u001b[0;32m     27\u001b[0m data \u001b[38;5;241m=\u001b[39m {\u001b[38;5;124m'\u001b[39m\u001b[38;5;124mids\u001b[39m\u001b[38;5;124m'\u001b[39m: [], \u001b[38;5;124m'\u001b[39m\u001b[38;5;124mrepresentations\u001b[39m\u001b[38;5;124m'\u001b[39m: []}\n\u001b[0;32m     28\u001b[0m \u001b[38;5;28;01mfor\u001b[39;00m image, representation \u001b[38;5;129;01min\u001b[39;00m \u001b[38;5;28mzip\u001b[39m(ids, reprs):\n\u001b[1;32m---> 29\u001b[0m     data[\u001b[38;5;124m'\u001b[39m\u001b[38;5;124mids\u001b[39m\u001b[38;5;124m'\u001b[39m]\u001b[38;5;241m.\u001b[39mappend(\u001b[43mimage\u001b[49m\u001b[38;5;241;43m.\u001b[39;49m\u001b[43mtolist\u001b[49m()) \n\u001b[0;32m     30\u001b[0m     data[\u001b[38;5;124m'\u001b[39m\u001b[38;5;124mrepresentations\u001b[39m\u001b[38;5;124m'\u001b[39m]\u001b[38;5;241m.\u001b[39mappend(representation)\n\u001b[0;32m     31\u001b[0m \u001b[38;5;28;01mwith\u001b[39;00m \u001b[38;5;28mopen\u001b[39m(path, \u001b[38;5;124m'\u001b[39m\u001b[38;5;124mw\u001b[39m\u001b[38;5;124m'\u001b[39m) \u001b[38;5;28;01mas\u001b[39;00m f:\n",
      "\u001b[1;31mAttributeError\u001b[0m: 'int' object has no attribute 'tolist'"
     ]
    }
   ],
   "source": [
    "import torch\n",
    "from taskdataset import TaskDataset\n",
    "import json\n",
    "import random\n",
    "import os\n",
    "from boilerplate import sybil\n",
    "\n",
    "def select_samples(dataset, n):\n",
    "    samples = list(zip(dataset.ids, dataset.imgs, dataset.labels))\n",
    "    ids = []\n",
    "    lbls = []\n",
    "    random.shuffle(samples)\n",
    "    present = {}\n",
    "    for s in samples:\n",
    "        lbl = s[2]\n",
    "        if lbl not in present:\n",
    "            present[lbl] = 1\n",
    "        if present[lbl] <= n:\n",
    "            present[lbl] = present[lbl] + 1\n",
    "            ids.append(s[0])\n",
    "            lbls.append(lbl)\n",
    "    return ids, lbls        \n",
    "\n",
    "#    return np.array(img.convert('RGB')), res\n",
    "\n",
    "def save(ids, reprs, path):\n",
    "    data = {'ids': [], 'representations': []}\n",
    "    for id, representation in zip(ids, reprs):\n",
    "        data['ids'].append(id) \n",
    "        data['representations'].append(representation)\n",
    "    with open(path, 'w') as f:\n",
    "        json.dump(data, f)\n",
    "\n",
    "if __name__ == \"__main__\":\n",
    "    dataset = torch.load(\"../data/SybilAttack.pt\")\n",
    "    ids, lbls = select_samples(dataset, 36)\n",
    "    repres = sybil(ids, 'home', 'affine')\n",
    "    save(ids, repres, 'sybil.json')\n"
   ]
  },
  {
   "cell_type": "code",
   "execution_count": null,
   "id": "62d92ffe",
   "metadata": {},
   "outputs": [],
   "source": [
    "def save(ids, reprs, path):\n",
    "    data = {'ids': [], 'representations': []}\n",
    "    for id, representation in zip(ids, reprs):\n",
    "        data['ids'].append(id) \n",
    "        data['representations'].append(representation)\n",
    "    with open(path, 'w') as f:\n",
    "        json.dump(data, f)\n",
    "\n",
    "save(ids, repres, 'sybil.json')"
   ]
  }
 ],
 "metadata": {
  "kernelspec": {
   "display_name": "Python 3 (ipykernel)",
   "language": "python",
   "name": "python3"
  },
  "language_info": {
   "codemirror_mode": {
    "name": "ipython",
    "version": 3
   },
   "file_extension": ".py",
   "mimetype": "text/x-python",
   "name": "python",
   "nbconvert_exporter": "python",
   "pygments_lexer": "ipython3",
   "version": "3.12.0"
  }
 },
 "nbformat": 4,
 "nbformat_minor": 5
}
