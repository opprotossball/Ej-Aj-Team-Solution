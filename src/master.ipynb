{
 "cells": [
  {
   "cell_type": "code",
   "execution_count": 2,
   "id": "48e91566",
   "metadata": {},
   "outputs": [],
   "source": [
    "import torch\n",
    "from taskdataset import TaskDataset\n",
    "import json\n",
    "import random\n",
    "import os\n",
    "from boilerplate import sybil\n",
    "import numpy as np\n",
    "\n",
    "def select_samples(dataset, n):\n",
    "    samples = list(zip(dataset.ids, dataset.imgs, dataset.labels))\n",
    "    ids = []\n",
    "    lbls = []\n",
    "    imgs = []\n",
    "    random.shuffle(samples)\n",
    "    present = {}\n",
    "    for s in samples:\n",
    "        lbl = s[2]\n",
    "        if lbl not in present:\n",
    "            present[lbl] = 1\n",
    "        if present[lbl] <= n:\n",
    "            present[lbl] = present[lbl] + 1\n",
    "            ids.append(s[0])\n",
    "            lbls.append(lbl)\n",
    "            imgs.append(np.array(s[1].convert('RGB')))\n",
    "    return ids, lbls, imgs        \n",
    "\n",
    "def save(imgs, reprs, path):\n",
    "    data = {'images': [], 'representations': []}\n",
    "    for image, representation in zip(imgs, reprs):\n",
    "        data['images'].append(image.tolist()) \n",
    "        data['representations'].append(representation)\n",
    "    with open(path, 'w') as f:\n",
    "        json.dump(data, f)\n",
    "\n",
    "if __name__ == \"__main__\":\n",
    "    dataset = torch.load(\"../data/SybilAttack.pt\")\n",
    "    ids, lbls, imgs = select_samples(dataset, 38)\n",
    "    repres = sybil(ids, 'home', 'affine')\n",
    "    save(imgs, repres, 'sybil.json')\n"
   ]
  },
  {
   "cell_type": "code",
   "execution_count": 7,
   "id": "f7411985",
   "metadata": {},
   "outputs": [],
   "source": [
    "def save(imgs, reprs, path):\n",
    "    data = {'images': [], 'representations': []}\n",
    "    for image, representation in zip(imgs, reprs):\n",
    "        data['images'].append(image.tolist()) \n",
    "        data['representations'].append(representation)\n",
    "    with open(path, 'w') as f:\n",
    "        json.dump(data, f)"
   ]
  },
  {
   "cell_type": "code",
   "execution_count": 8,
   "id": "070cbdb2",
   "metadata": {},
   "outputs": [
    {
     "ename": "IndexError",
     "evalue": "list index out of range",
     "output_type": "error",
     "traceback": [
      "\u001b[1;31m---------------------------------------------------------------------------\u001b[0m",
      "\u001b[1;31mIndexError\u001b[0m                                Traceback (most recent call last)",
      "Cell \u001b[1;32mIn[8], line 1\u001b[0m\n\u001b[1;32m----> 1\u001b[0m imgs \u001b[38;5;241m=\u001b[39m [\u001b[43mdataset\u001b[49m\u001b[38;5;241;43m.\u001b[39;49m\u001b[43mimgs\u001b[49m\u001b[43m[\u001b[49m\u001b[43mi\u001b[49m\u001b[43m]\u001b[49m \u001b[38;5;28;01mfor\u001b[39;00m i \u001b[38;5;129;01min\u001b[39;00m ids]\n",
      "\u001b[1;31mIndexError\u001b[0m: list index out of range"
     ]
    }
   ],
   "source": [
    "imgs = [dataset.imgs[i] for i in ids]"
   ]
  },
  {
   "cell_type": "code",
   "execution_count": 6,
   "id": "62d92ffe",
   "metadata": {},
   "outputs": [
    {
     "ename": "IndexError",
     "evalue": "list index out of range",
     "output_type": "error",
     "traceback": [
      "\u001b[1;31m---------------------------------------------------------------------------\u001b[0m",
      "\u001b[1;31mIndexError\u001b[0m                                Traceback (most recent call last)",
      "Cell \u001b[1;32mIn[6], line 10\u001b[0m\n\u001b[0;32m      7\u001b[0m     \u001b[38;5;28;01mwith\u001b[39;00m \u001b[38;5;28mopen\u001b[39m(path, \u001b[38;5;124m'\u001b[39m\u001b[38;5;124mw\u001b[39m\u001b[38;5;124m'\u001b[39m) \u001b[38;5;28;01mas\u001b[39;00m f:\n\u001b[0;32m      8\u001b[0m         json\u001b[38;5;241m.\u001b[39mdump(data, f)\n\u001b[1;32m---> 10\u001b[0m \u001b[43msave\u001b[49m\u001b[43m(\u001b[49m\u001b[43mids\u001b[49m\u001b[43m,\u001b[49m\u001b[43m \u001b[49m\u001b[43mrepres\u001b[49m\u001b[43m,\u001b[49m\u001b[43m \u001b[49m\u001b[38;5;124;43m'\u001b[39;49m\u001b[38;5;124;43msybil_imgs.json\u001b[39;49m\u001b[38;5;124;43m'\u001b[39;49m\u001b[43m)\u001b[49m\n",
      "Cell \u001b[1;32mIn[6], line 4\u001b[0m, in \u001b[0;36msave\u001b[1;34m(ids, reprs, path)\u001b[0m\n\u001b[0;32m      2\u001b[0m data \u001b[38;5;241m=\u001b[39m {\u001b[38;5;124m'\u001b[39m\u001b[38;5;124mimages\u001b[39m\u001b[38;5;124m'\u001b[39m: [], \u001b[38;5;124m'\u001b[39m\u001b[38;5;124mrepresentations\u001b[39m\u001b[38;5;124m'\u001b[39m: []}\n\u001b[0;32m      3\u001b[0m \u001b[38;5;28;01mfor\u001b[39;00m \u001b[38;5;28mid\u001b[39m, representation \u001b[38;5;129;01min\u001b[39;00m \u001b[38;5;28mzip\u001b[39m(ids, reprs):\n\u001b[1;32m----> 4\u001b[0m     im \u001b[38;5;241m=\u001b[39m \u001b[43mdataset\u001b[49m\u001b[38;5;241;43m.\u001b[39;49m\u001b[43mimgs\u001b[49m\u001b[43m[\u001b[49m\u001b[38;5;28;43mid\u001b[39;49m\u001b[43m]\u001b[49m\n\u001b[0;32m      5\u001b[0m     data[\u001b[38;5;124m'\u001b[39m\u001b[38;5;124mimages\u001b[39m\u001b[38;5;124m'\u001b[39m]\u001b[38;5;241m.\u001b[39mappend(np\u001b[38;5;241m.\u001b[39marray(im\u001b[38;5;241m.\u001b[39mconvert(\u001b[38;5;124m'\u001b[39m\u001b[38;5;124mRGB\u001b[39m\u001b[38;5;124m'\u001b[39m))) \n\u001b[0;32m      6\u001b[0m     data[\u001b[38;5;124m'\u001b[39m\u001b[38;5;124mrepresentations\u001b[39m\u001b[38;5;124m'\u001b[39m]\u001b[38;5;241m.\u001b[39mappend(representation)\n",
      "\u001b[1;31mIndexError\u001b[0m: list index out of range"
     ]
    }
   ],
   "source": [
    "save(ids, repres, 'sybil_imgs.json')"
   ]
  },
  {
   "cell_type": "code",
   "execution_count": 10,
   "id": "5e84900f",
   "metadata": {},
   "outputs": [
    {
     "name": "stdout",
     "output_type": "stream",
     "text": [
      "Request ok\n",
      "{'msg': 'Successful sybil affine reset defense'}\n"
     ]
    }
   ],
   "source": [
    "# from boilerplate import *\n",
    "# sybil_reset('affine', 'defense')"
   ]
  }
 ],
 "metadata": {
  "kernelspec": {
   "display_name": "Python 3 (ipykernel)",
   "language": "python",
   "name": "python3"
  },
  "language_info": {
   "codemirror_mode": {
    "name": "ipython",
    "version": 3
   },
   "file_extension": ".py",
   "mimetype": "text/x-python",
   "name": "python",
   "nbconvert_exporter": "python",
   "pygments_lexer": "ipython3",
   "version": "3.12.0"
  }
 },
 "nbformat": 4,
 "nbformat_minor": 5
}
